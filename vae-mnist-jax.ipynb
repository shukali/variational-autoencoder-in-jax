{
  "nbformat": 4,
  "nbformat_minor": 0,
  "metadata": {
    "colab": {
      "provenance": [],
      "collapsed_sections": [],
      "toc_visible": true
    },
    "kernelspec": {
      "name": "python3",
      "display_name": "Python 3"
    },
    "language_info": {
      "name": "python"
    },
    "accelerator": "GPU",
    "widgets": {
      "application/vnd.jupyter.widget-state+json": {
        "2876e5a2d8dd4959807120bf257b84f8": {
          "model_module": "@jupyter-widgets/controls",
          "model_name": "HBoxModel",
          "model_module_version": "1.5.0",
          "state": {
            "_dom_classes": [],
            "_model_module": "@jupyter-widgets/controls",
            "_model_module_version": "1.5.0",
            "_model_name": "HBoxModel",
            "_view_count": null,
            "_view_module": "@jupyter-widgets/controls",
            "_view_module_version": "1.5.0",
            "_view_name": "HBoxView",
            "box_style": "",
            "children": [
              "IPY_MODEL_a304966b0aa4488f9af244f5626cb670",
              "IPY_MODEL_9f200728fcc64e9da75c0961fb096573",
              "IPY_MODEL_ae80a7b35379471fb0d56a8b40bb5a67"
            ],
            "layout": "IPY_MODEL_3343bbd1337249848ff540f97088c24c"
          }
        },
        "a304966b0aa4488f9af244f5626cb670": {
          "model_module": "@jupyter-widgets/controls",
          "model_name": "HTMLModel",
          "model_module_version": "1.5.0",
          "state": {
            "_dom_classes": [],
            "_model_module": "@jupyter-widgets/controls",
            "_model_module_version": "1.5.0",
            "_model_name": "HTMLModel",
            "_view_count": null,
            "_view_module": "@jupyter-widgets/controls",
            "_view_module_version": "1.5.0",
            "_view_name": "HTMLView",
            "description": "",
            "description_tooltip": null,
            "layout": "IPY_MODEL_871dbe11ddbc450aa86da27a28cd8f34",
            "placeholder": "​",
            "style": "IPY_MODEL_7e8336f356414904946121c962ac8848",
            "value": "100%"
          }
        },
        "9f200728fcc64e9da75c0961fb096573": {
          "model_module": "@jupyter-widgets/controls",
          "model_name": "FloatProgressModel",
          "model_module_version": "1.5.0",
          "state": {
            "_dom_classes": [],
            "_model_module": "@jupyter-widgets/controls",
            "_model_module_version": "1.5.0",
            "_model_name": "FloatProgressModel",
            "_view_count": null,
            "_view_module": "@jupyter-widgets/controls",
            "_view_module_version": "1.5.0",
            "_view_name": "ProgressView",
            "bar_style": "success",
            "description": "",
            "description_tooltip": null,
            "layout": "IPY_MODEL_87eba56861944e46b0506d0fef1a35c3",
            "max": 6000,
            "min": 0,
            "orientation": "horizontal",
            "style": "IPY_MODEL_b93c13cbeb714c2285fb709110b4b71e",
            "value": 6000
          }
        },
        "ae80a7b35379471fb0d56a8b40bb5a67": {
          "model_module": "@jupyter-widgets/controls",
          "model_name": "HTMLModel",
          "model_module_version": "1.5.0",
          "state": {
            "_dom_classes": [],
            "_model_module": "@jupyter-widgets/controls",
            "_model_module_version": "1.5.0",
            "_model_name": "HTMLModel",
            "_view_count": null,
            "_view_module": "@jupyter-widgets/controls",
            "_view_module_version": "1.5.0",
            "_view_name": "HTMLView",
            "description": "",
            "description_tooltip": null,
            "layout": "IPY_MODEL_76792e0489824c1997e87e3054371743",
            "placeholder": "​",
            "style": "IPY_MODEL_d00ff2ceb1bb4ea1bc9f4b90af047ee2",
            "value": " 6000/6000 [00:54&lt;00:00, 132.58it/s]"
          }
        },
        "3343bbd1337249848ff540f97088c24c": {
          "model_module": "@jupyter-widgets/base",
          "model_name": "LayoutModel",
          "model_module_version": "1.2.0",
          "state": {
            "_model_module": "@jupyter-widgets/base",
            "_model_module_version": "1.2.0",
            "_model_name": "LayoutModel",
            "_view_count": null,
            "_view_module": "@jupyter-widgets/base",
            "_view_module_version": "1.2.0",
            "_view_name": "LayoutView",
            "align_content": null,
            "align_items": null,
            "align_self": null,
            "border": null,
            "bottom": null,
            "display": null,
            "flex": null,
            "flex_flow": null,
            "grid_area": null,
            "grid_auto_columns": null,
            "grid_auto_flow": null,
            "grid_auto_rows": null,
            "grid_column": null,
            "grid_gap": null,
            "grid_row": null,
            "grid_template_areas": null,
            "grid_template_columns": null,
            "grid_template_rows": null,
            "height": null,
            "justify_content": null,
            "justify_items": null,
            "left": null,
            "margin": null,
            "max_height": null,
            "max_width": null,
            "min_height": null,
            "min_width": null,
            "object_fit": null,
            "object_position": null,
            "order": null,
            "overflow": null,
            "overflow_x": null,
            "overflow_y": null,
            "padding": null,
            "right": null,
            "top": null,
            "visibility": null,
            "width": null
          }
        },
        "871dbe11ddbc450aa86da27a28cd8f34": {
          "model_module": "@jupyter-widgets/base",
          "model_name": "LayoutModel",
          "model_module_version": "1.2.0",
          "state": {
            "_model_module": "@jupyter-widgets/base",
            "_model_module_version": "1.2.0",
            "_model_name": "LayoutModel",
            "_view_count": null,
            "_view_module": "@jupyter-widgets/base",
            "_view_module_version": "1.2.0",
            "_view_name": "LayoutView",
            "align_content": null,
            "align_items": null,
            "align_self": null,
            "border": null,
            "bottom": null,
            "display": null,
            "flex": null,
            "flex_flow": null,
            "grid_area": null,
            "grid_auto_columns": null,
            "grid_auto_flow": null,
            "grid_auto_rows": null,
            "grid_column": null,
            "grid_gap": null,
            "grid_row": null,
            "grid_template_areas": null,
            "grid_template_columns": null,
            "grid_template_rows": null,
            "height": null,
            "justify_content": null,
            "justify_items": null,
            "left": null,
            "margin": null,
            "max_height": null,
            "max_width": null,
            "min_height": null,
            "min_width": null,
            "object_fit": null,
            "object_position": null,
            "order": null,
            "overflow": null,
            "overflow_x": null,
            "overflow_y": null,
            "padding": null,
            "right": null,
            "top": null,
            "visibility": null,
            "width": null
          }
        },
        "7e8336f356414904946121c962ac8848": {
          "model_module": "@jupyter-widgets/controls",
          "model_name": "DescriptionStyleModel",
          "model_module_version": "1.5.0",
          "state": {
            "_model_module": "@jupyter-widgets/controls",
            "_model_module_version": "1.5.0",
            "_model_name": "DescriptionStyleModel",
            "_view_count": null,
            "_view_module": "@jupyter-widgets/base",
            "_view_module_version": "1.2.0",
            "_view_name": "StyleView",
            "description_width": ""
          }
        },
        "87eba56861944e46b0506d0fef1a35c3": {
          "model_module": "@jupyter-widgets/base",
          "model_name": "LayoutModel",
          "model_module_version": "1.2.0",
          "state": {
            "_model_module": "@jupyter-widgets/base",
            "_model_module_version": "1.2.0",
            "_model_name": "LayoutModel",
            "_view_count": null,
            "_view_module": "@jupyter-widgets/base",
            "_view_module_version": "1.2.0",
            "_view_name": "LayoutView",
            "align_content": null,
            "align_items": null,
            "align_self": null,
            "border": null,
            "bottom": null,
            "display": null,
            "flex": null,
            "flex_flow": null,
            "grid_area": null,
            "grid_auto_columns": null,
            "grid_auto_flow": null,
            "grid_auto_rows": null,
            "grid_column": null,
            "grid_gap": null,
            "grid_row": null,
            "grid_template_areas": null,
            "grid_template_columns": null,
            "grid_template_rows": null,
            "height": null,
            "justify_content": null,
            "justify_items": null,
            "left": null,
            "margin": null,
            "max_height": null,
            "max_width": null,
            "min_height": null,
            "min_width": null,
            "object_fit": null,
            "object_position": null,
            "order": null,
            "overflow": null,
            "overflow_x": null,
            "overflow_y": null,
            "padding": null,
            "right": null,
            "top": null,
            "visibility": null,
            "width": null
          }
        },
        "b93c13cbeb714c2285fb709110b4b71e": {
          "model_module": "@jupyter-widgets/controls",
          "model_name": "ProgressStyleModel",
          "model_module_version": "1.5.0",
          "state": {
            "_model_module": "@jupyter-widgets/controls",
            "_model_module_version": "1.5.0",
            "_model_name": "ProgressStyleModel",
            "_view_count": null,
            "_view_module": "@jupyter-widgets/base",
            "_view_module_version": "1.2.0",
            "_view_name": "StyleView",
            "bar_color": null,
            "description_width": ""
          }
        },
        "76792e0489824c1997e87e3054371743": {
          "model_module": "@jupyter-widgets/base",
          "model_name": "LayoutModel",
          "model_module_version": "1.2.0",
          "state": {
            "_model_module": "@jupyter-widgets/base",
            "_model_module_version": "1.2.0",
            "_model_name": "LayoutModel",
            "_view_count": null,
            "_view_module": "@jupyter-widgets/base",
            "_view_module_version": "1.2.0",
            "_view_name": "LayoutView",
            "align_content": null,
            "align_items": null,
            "align_self": null,
            "border": null,
            "bottom": null,
            "display": null,
            "flex": null,
            "flex_flow": null,
            "grid_area": null,
            "grid_auto_columns": null,
            "grid_auto_flow": null,
            "grid_auto_rows": null,
            "grid_column": null,
            "grid_gap": null,
            "grid_row": null,
            "grid_template_areas": null,
            "grid_template_columns": null,
            "grid_template_rows": null,
            "height": null,
            "justify_content": null,
            "justify_items": null,
            "left": null,
            "margin": null,
            "max_height": null,
            "max_width": null,
            "min_height": null,
            "min_width": null,
            "object_fit": null,
            "object_position": null,
            "order": null,
            "overflow": null,
            "overflow_x": null,
            "overflow_y": null,
            "padding": null,
            "right": null,
            "top": null,
            "visibility": null,
            "width": null
          }
        },
        "d00ff2ceb1bb4ea1bc9f4b90af047ee2": {
          "model_module": "@jupyter-widgets/controls",
          "model_name": "DescriptionStyleModel",
          "model_module_version": "1.5.0",
          "state": {
            "_model_module": "@jupyter-widgets/controls",
            "_model_module_version": "1.5.0",
            "_model_name": "DescriptionStyleModel",
            "_view_count": null,
            "_view_module": "@jupyter-widgets/base",
            "_view_module_version": "1.2.0",
            "_view_name": "StyleView",
            "description_width": ""
          }
        },
        "27a7de66890c4f74a02329bfc5631118": {
          "model_module": "@jupyter-widgets/controls",
          "model_name": "HBoxModel",
          "model_module_version": "1.5.0",
          "state": {
            "_dom_classes": [],
            "_model_module": "@jupyter-widgets/controls",
            "_model_module_version": "1.5.0",
            "_model_name": "HBoxModel",
            "_view_count": null,
            "_view_module": "@jupyter-widgets/controls",
            "_view_module_version": "1.5.0",
            "_view_name": "HBoxView",
            "box_style": "",
            "children": [
              "IPY_MODEL_d2a70818fbc8430781596cd7fa3aab91",
              "IPY_MODEL_e24f9c913d6f4390aa7f74e2ee356535",
              "IPY_MODEL_9eb3b9fd1a1641cabae75d63920fbbd3"
            ],
            "layout": "IPY_MODEL_7a774c8b8ed242babd4fc248aa5060bf"
          }
        },
        "d2a70818fbc8430781596cd7fa3aab91": {
          "model_module": "@jupyter-widgets/controls",
          "model_name": "HTMLModel",
          "model_module_version": "1.5.0",
          "state": {
            "_dom_classes": [],
            "_model_module": "@jupyter-widgets/controls",
            "_model_module_version": "1.5.0",
            "_model_name": "HTMLModel",
            "_view_count": null,
            "_view_module": "@jupyter-widgets/controls",
            "_view_module_version": "1.5.0",
            "_view_name": "HTMLView",
            "description": "",
            "description_tooltip": null,
            "layout": "IPY_MODEL_1b80fd5d3ad24282a85435387a0c6b87",
            "placeholder": "​",
            "style": "IPY_MODEL_7aa2a34234fa4338a656616286811a84",
            "value": "100%"
          }
        },
        "e24f9c913d6f4390aa7f74e2ee356535": {
          "model_module": "@jupyter-widgets/controls",
          "model_name": "FloatProgressModel",
          "model_module_version": "1.5.0",
          "state": {
            "_dom_classes": [],
            "_model_module": "@jupyter-widgets/controls",
            "_model_module_version": "1.5.0",
            "_model_name": "FloatProgressModel",
            "_view_count": null,
            "_view_module": "@jupyter-widgets/controls",
            "_view_module_version": "1.5.0",
            "_view_name": "ProgressView",
            "bar_style": "success",
            "description": "",
            "description_tooltip": null,
            "layout": "IPY_MODEL_1caf48158d274ed5b69091b6996996de",
            "max": 200,
            "min": 0,
            "orientation": "horizontal",
            "style": "IPY_MODEL_866ba0a7f9d44ae8a445c9d74963be56",
            "value": 200
          }
        },
        "9eb3b9fd1a1641cabae75d63920fbbd3": {
          "model_module": "@jupyter-widgets/controls",
          "model_name": "HTMLModel",
          "model_module_version": "1.5.0",
          "state": {
            "_dom_classes": [],
            "_model_module": "@jupyter-widgets/controls",
            "_model_module_version": "1.5.0",
            "_model_name": "HTMLModel",
            "_view_count": null,
            "_view_module": "@jupyter-widgets/controls",
            "_view_module_version": "1.5.0",
            "_view_name": "HTMLView",
            "description": "",
            "description_tooltip": null,
            "layout": "IPY_MODEL_842f5d7d221948d2ae2afdfff16a92fd",
            "placeholder": "​",
            "style": "IPY_MODEL_d519a42a21ab435996535412b5e418fe",
            "value": " 200/200 [00:01&lt;00:00, 229.89it/s]"
          }
        },
        "7a774c8b8ed242babd4fc248aa5060bf": {
          "model_module": "@jupyter-widgets/base",
          "model_name": "LayoutModel",
          "model_module_version": "1.2.0",
          "state": {
            "_model_module": "@jupyter-widgets/base",
            "_model_module_version": "1.2.0",
            "_model_name": "LayoutModel",
            "_view_count": null,
            "_view_module": "@jupyter-widgets/base",
            "_view_module_version": "1.2.0",
            "_view_name": "LayoutView",
            "align_content": null,
            "align_items": null,
            "align_self": null,
            "border": null,
            "bottom": null,
            "display": null,
            "flex": null,
            "flex_flow": null,
            "grid_area": null,
            "grid_auto_columns": null,
            "grid_auto_flow": null,
            "grid_auto_rows": null,
            "grid_column": null,
            "grid_gap": null,
            "grid_row": null,
            "grid_template_areas": null,
            "grid_template_columns": null,
            "grid_template_rows": null,
            "height": null,
            "justify_content": null,
            "justify_items": null,
            "left": null,
            "margin": null,
            "max_height": null,
            "max_width": null,
            "min_height": null,
            "min_width": null,
            "object_fit": null,
            "object_position": null,
            "order": null,
            "overflow": null,
            "overflow_x": null,
            "overflow_y": null,
            "padding": null,
            "right": null,
            "top": null,
            "visibility": null,
            "width": null
          }
        },
        "1b80fd5d3ad24282a85435387a0c6b87": {
          "model_module": "@jupyter-widgets/base",
          "model_name": "LayoutModel",
          "model_module_version": "1.2.0",
          "state": {
            "_model_module": "@jupyter-widgets/base",
            "_model_module_version": "1.2.0",
            "_model_name": "LayoutModel",
            "_view_count": null,
            "_view_module": "@jupyter-widgets/base",
            "_view_module_version": "1.2.0",
            "_view_name": "LayoutView",
            "align_content": null,
            "align_items": null,
            "align_self": null,
            "border": null,
            "bottom": null,
            "display": null,
            "flex": null,
            "flex_flow": null,
            "grid_area": null,
            "grid_auto_columns": null,
            "grid_auto_flow": null,
            "grid_auto_rows": null,
            "grid_column": null,
            "grid_gap": null,
            "grid_row": null,
            "grid_template_areas": null,
            "grid_template_columns": null,
            "grid_template_rows": null,
            "height": null,
            "justify_content": null,
            "justify_items": null,
            "left": null,
            "margin": null,
            "max_height": null,
            "max_width": null,
            "min_height": null,
            "min_width": null,
            "object_fit": null,
            "object_position": null,
            "order": null,
            "overflow": null,
            "overflow_x": null,
            "overflow_y": null,
            "padding": null,
            "right": null,
            "top": null,
            "visibility": null,
            "width": null
          }
        },
        "7aa2a34234fa4338a656616286811a84": {
          "model_module": "@jupyter-widgets/controls",
          "model_name": "DescriptionStyleModel",
          "model_module_version": "1.5.0",
          "state": {
            "_model_module": "@jupyter-widgets/controls",
            "_model_module_version": "1.5.0",
            "_model_name": "DescriptionStyleModel",
            "_view_count": null,
            "_view_module": "@jupyter-widgets/base",
            "_view_module_version": "1.2.0",
            "_view_name": "StyleView",
            "description_width": ""
          }
        },
        "1caf48158d274ed5b69091b6996996de": {
          "model_module": "@jupyter-widgets/base",
          "model_name": "LayoutModel",
          "model_module_version": "1.2.0",
          "state": {
            "_model_module": "@jupyter-widgets/base",
            "_model_module_version": "1.2.0",
            "_model_name": "LayoutModel",
            "_view_count": null,
            "_view_module": "@jupyter-widgets/base",
            "_view_module_version": "1.2.0",
            "_view_name": "LayoutView",
            "align_content": null,
            "align_items": null,
            "align_self": null,
            "border": null,
            "bottom": null,
            "display": null,
            "flex": null,
            "flex_flow": null,
            "grid_area": null,
            "grid_auto_columns": null,
            "grid_auto_flow": null,
            "grid_auto_rows": null,
            "grid_column": null,
            "grid_gap": null,
            "grid_row": null,
            "grid_template_areas": null,
            "grid_template_columns": null,
            "grid_template_rows": null,
            "height": null,
            "justify_content": null,
            "justify_items": null,
            "left": null,
            "margin": null,
            "max_height": null,
            "max_width": null,
            "min_height": null,
            "min_width": null,
            "object_fit": null,
            "object_position": null,
            "order": null,
            "overflow": null,
            "overflow_x": null,
            "overflow_y": null,
            "padding": null,
            "right": null,
            "top": null,
            "visibility": null,
            "width": null
          }
        },
        "866ba0a7f9d44ae8a445c9d74963be56": {
          "model_module": "@jupyter-widgets/controls",
          "model_name": "ProgressStyleModel",
          "model_module_version": "1.5.0",
          "state": {
            "_model_module": "@jupyter-widgets/controls",
            "_model_module_version": "1.5.0",
            "_model_name": "ProgressStyleModel",
            "_view_count": null,
            "_view_module": "@jupyter-widgets/base",
            "_view_module_version": "1.2.0",
            "_view_name": "StyleView",
            "bar_color": null,
            "description_width": ""
          }
        },
        "842f5d7d221948d2ae2afdfff16a92fd": {
          "model_module": "@jupyter-widgets/base",
          "model_name": "LayoutModel",
          "model_module_version": "1.2.0",
          "state": {
            "_model_module": "@jupyter-widgets/base",
            "_model_module_version": "1.2.0",
            "_model_name": "LayoutModel",
            "_view_count": null,
            "_view_module": "@jupyter-widgets/base",
            "_view_module_version": "1.2.0",
            "_view_name": "LayoutView",
            "align_content": null,
            "align_items": null,
            "align_self": null,
            "border": null,
            "bottom": null,
            "display": null,
            "flex": null,
            "flex_flow": null,
            "grid_area": null,
            "grid_auto_columns": null,
            "grid_auto_flow": null,
            "grid_auto_rows": null,
            "grid_column": null,
            "grid_gap": null,
            "grid_row": null,
            "grid_template_areas": null,
            "grid_template_columns": null,
            "grid_template_rows": null,
            "height": null,
            "justify_content": null,
            "justify_items": null,
            "left": null,
            "margin": null,
            "max_height": null,
            "max_width": null,
            "min_height": null,
            "min_width": null,
            "object_fit": null,
            "object_position": null,
            "order": null,
            "overflow": null,
            "overflow_x": null,
            "overflow_y": null,
            "padding": null,
            "right": null,
            "top": null,
            "visibility": null,
            "width": null
          }
        },
        "d519a42a21ab435996535412b5e418fe": {
          "model_module": "@jupyter-widgets/controls",
          "model_name": "DescriptionStyleModel",
          "model_module_version": "1.5.0",
          "state": {
            "_model_module": "@jupyter-widgets/controls",
            "_model_module_version": "1.5.0",
            "_model_name": "DescriptionStyleModel",
            "_view_count": null,
            "_view_module": "@jupyter-widgets/base",
            "_view_module_version": "1.2.0",
            "_view_name": "StyleView",
            "description_width": ""
          }
        }
      }
    }
  },
  "cells": [
    {
      "cell_type": "markdown",
      "source": [
        "# Variational Autoencoders in JAX\n",
        "\n",
        "This notebook shows how to build a deep Variational Autoencoder (VAE) with JAX, trained on the MNIST dataset. The implementation is inspired by a lecture about generative ML at the University of Toronto.\n",
        "\n",
        "A VAE is a kind of autoencoder that outputs a probability distribution in the latent space, unlike their (unvariational) counterpart that outputs a single latent vector instead. Our VAE encoder, instead of learning a good encoding vector in the latent space, gives the parameters of a multidimensional isotropic Gaussian that can be used to sample encodings from the latent space.\n",
        "\n",
        "A quick recap on the inner workings. For an input $x_i$ and it's low-dimensional, latent representation $z$ we approximate the true posterior $p(z \\vert x_i) \\approx q_{\\Phi_i}(z \\vert x_i) = \\mathcal{N}(\\mu_i, \\sigma_i^2)$ by a multidimensional isotropic Gaussian parametrized by $\\Phi_i = (\\mu_i, \\log \\sigma_i)$. This is our encoder. We decode a latent representation $p_\\theta(x \\vert z)$ parameterized by $\\theta$.\n",
        "\n",
        "Ideally, we would train the network as to maximize the data log probability $\\log p(x)$. This is of course intractable; hence maximizing the Evidence Lower Bound (ELBO) serves as our objective placebo. Minimizing the negative ELBO, we get as a loss function:\n",
        "\\begin{align}\n",
        "\\mathcal{L}(\\Phi, \\theta; x) = -\\mathbb{E}_{z \\sim q_{\\Phi}}{\\left [\\log p_\\theta(x \\vert z) \\right ]} + KL \\left( q_\\Phi(z \\vert x) \\vert \\vert p(z) \\right)\n",
        "\\end{align}\n",
        "where the second term denotes our divergence of the assumed Gaussian $q_\\Phi$ from the true prior $p(z)$.\n",
        "\n",
        "Now let's define the model we use for MNIST encoding. Our prior $p(z) = \\mathcal{N}(0, I)$ is assumed to be standard Gaussian. The likelihood $p_\\theta(x \\vert z) = \\text{Bernoulli}(\\theta)$ will be a multidimensional binomial where we have a bernoulli parameter for each pixel. The posterior approximation $q_{\\Phi_i}(z \\vert x_i) = \\mathcal{N}(\\mu_i, \\sigma_i^2I)$ is an isotropic Gaussian.\n",
        "\n",
        "Now in the classic implementation of a VAE, we have a set of parameters $\\Phi_i$ for each datapoint, creating a dependency of the number of parameters to the training data size. To circumvent this, we use Amortized Inference (AI) to reduce the number of model parameters. The idea of AI is that instead of having $\\Phi_i$ for each datapoint, we have a single $\\Phi$ that specifies the parameters of a Neural Networks that, given $x_i$, outputs us $\\Phi_i$. So we get $q_{\\Phi_i}(z \\vert x_i) = \\mathcal{N}(z \\vert \\mu_{\\Phi}(x_i), \\Sigma_{\\Phi}(x_i))$ instead.\n",
        "\n",
        "JAX will provide us with the necessary autodiff functionality; we use Adam for gradient-based optimization of $\\theta$ and $\\Phi$."
      ],
      "metadata": {
        "id": "248_qtulv8jx"
      }
    },
    {
      "cell_type": "markdown",
      "source": [
        "## Part 1: Preparations\n",
        "\n",
        "Let us import the necessary packages first."
      ],
      "metadata": {
        "id": "nDUMG4VJU4x5"
      }
    },
    {
      "cell_type": "code",
      "source": [
        "!pip install --upgrade -q pip jax jaxlib   # JAX\n",
        "!pip install git+https://github.com/google/flax.git   # Flax\n",
        "!pip install git+https://github.com/deepmind/optax.git # Optax\n",
        "\n",
        "from jax import jit, grad, value_and_grad, lax, vmap, random\n",
        "import jax.numpy as np\n",
        "import jax.random\n",
        "from jax.scipy.special import logsumexp\n",
        "from jax.scipy.stats import norm\n",
        "from jax.tree_util import register_pytree_node\n",
        "\n",
        "from flax import linen as nn\n",
        "import optax\n",
        "\n",
        "import tensorflow_probability as tfp\n",
        "import tensorflow_probability.substrates.jax.distributions as dists\n",
        "\n",
        "from jax.config import config \n",
        "config.update(\"jax_debug_nans\", True)\n",
        "\n",
        "import matplotlib.pyplot as plt\n",
        "from tqdm.auto import trange\n",
        "from functools import partial\n",
        "from random import randint   # simple python rnd"
      ],
      "metadata": {
        "colab": {
          "base_uri": "https://localhost:8080/"
        },
        "id": "3sPg0ZsyQ4Oi",
        "outputId": "b48868cb-b635-48dc-d701-2260bf712ca0"
      },
      "execution_count": 1,
      "outputs": [
        {
          "output_type": "stream",
          "name": "stdout",
          "text": [
            "\u001b[?25l\r\u001b[K     |▏                               | 10 kB 22.7 MB/s eta 0:00:01\r\u001b[K     |▎                               | 20 kB 5.5 MB/s eta 0:00:01\r\u001b[K     |▌                               | 30 kB 7.9 MB/s eta 0:00:01\r\u001b[K     |▋                               | 40 kB 4.3 MB/s eta 0:00:01\r\u001b[K     |▉                               | 51 kB 3.0 MB/s eta 0:00:01\r\u001b[K     |█                               | 61 kB 3.2 MB/s eta 0:00:01\r\u001b[K     |█▏                              | 71 kB 3.7 MB/s eta 0:00:01\r\u001b[K     |█▎                              | 81 kB 4.2 MB/s eta 0:00:01\r\u001b[K     |█▍                              | 92 kB 4.6 MB/s eta 0:00:01\r\u001b[K     |█▋                              | 102 kB 4.8 MB/s eta 0:00:01\r\u001b[K     |█▊                              | 112 kB 4.8 MB/s eta 0:00:01\r\u001b[K     |██                              | 122 kB 4.8 MB/s eta 0:00:01\r\u001b[K     |██                              | 133 kB 4.8 MB/s eta 0:00:01\r\u001b[K     |██▎                             | 143 kB 4.8 MB/s eta 0:00:01\r\u001b[K     |██▍                             | 153 kB 4.8 MB/s eta 0:00:01\r\u001b[K     |██▋                             | 163 kB 4.8 MB/s eta 0:00:01\r\u001b[K     |██▊                             | 174 kB 4.8 MB/s eta 0:00:01\r\u001b[K     |██▉                             | 184 kB 4.8 MB/s eta 0:00:01\r\u001b[K     |███                             | 194 kB 4.8 MB/s eta 0:00:01\r\u001b[K     |███▏                            | 204 kB 4.8 MB/s eta 0:00:01\r\u001b[K     |███▍                            | 215 kB 4.8 MB/s eta 0:00:01\r\u001b[K     |███▌                            | 225 kB 4.8 MB/s eta 0:00:01\r\u001b[K     |███▊                            | 235 kB 4.8 MB/s eta 0:00:01\r\u001b[K     |███▉                            | 245 kB 4.8 MB/s eta 0:00:01\r\u001b[K     |████                            | 256 kB 4.8 MB/s eta 0:00:01\r\u001b[K     |████▏                           | 266 kB 4.8 MB/s eta 0:00:01\r\u001b[K     |████▎                           | 276 kB 4.8 MB/s eta 0:00:01\r\u001b[K     |████▌                           | 286 kB 4.8 MB/s eta 0:00:01\r\u001b[K     |████▋                           | 296 kB 4.8 MB/s eta 0:00:01\r\u001b[K     |████▉                           | 307 kB 4.8 MB/s eta 0:00:01\r\u001b[K     |█████                           | 317 kB 4.8 MB/s eta 0:00:01\r\u001b[K     |█████▏                          | 327 kB 4.8 MB/s eta 0:00:01\r\u001b[K     |█████▎                          | 337 kB 4.8 MB/s eta 0:00:01\r\u001b[K     |█████▌                          | 348 kB 4.8 MB/s eta 0:00:01\r\u001b[K     |█████▋                          | 358 kB 4.8 MB/s eta 0:00:01\r\u001b[K     |█████▊                          | 368 kB 4.8 MB/s eta 0:00:01\r\u001b[K     |██████                          | 378 kB 4.8 MB/s eta 0:00:01\r\u001b[K     |██████                          | 389 kB 4.8 MB/s eta 0:00:01\r\u001b[K     |██████▎                         | 399 kB 4.8 MB/s eta 0:00:01\r\u001b[K     |██████▍                         | 409 kB 4.8 MB/s eta 0:00:01\r\u001b[K     |██████▋                         | 419 kB 4.8 MB/s eta 0:00:01\r\u001b[K     |██████▊                         | 430 kB 4.8 MB/s eta 0:00:01\r\u001b[K     |███████                         | 440 kB 4.8 MB/s eta 0:00:01\r\u001b[K     |███████                         | 450 kB 4.8 MB/s eta 0:00:01\r\u001b[K     |███████▏                        | 460 kB 4.8 MB/s eta 0:00:01\r\u001b[K     |███████▍                        | 471 kB 4.8 MB/s eta 0:00:01\r\u001b[K     |███████▌                        | 481 kB 4.8 MB/s eta 0:00:01\r\u001b[K     |███████▊                        | 491 kB 4.8 MB/s eta 0:00:01\r\u001b[K     |███████▉                        | 501 kB 4.8 MB/s eta 0:00:01\r\u001b[K     |████████                        | 512 kB 4.8 MB/s eta 0:00:01\r\u001b[K     |████████▏                       | 522 kB 4.8 MB/s eta 0:00:01\r\u001b[K     |████████▍                       | 532 kB 4.8 MB/s eta 0:00:01\r\u001b[K     |████████▌                       | 542 kB 4.8 MB/s eta 0:00:01\r\u001b[K     |████████▋                       | 552 kB 4.8 MB/s eta 0:00:01\r\u001b[K     |████████▉                       | 563 kB 4.8 MB/s eta 0:00:01\r\u001b[K     |█████████                       | 573 kB 4.8 MB/s eta 0:00:01\r\u001b[K     |█████████▏                      | 583 kB 4.8 MB/s eta 0:00:01\r\u001b[K     |█████████▎                      | 593 kB 4.8 MB/s eta 0:00:01\r\u001b[K     |█████████▌                      | 604 kB 4.8 MB/s eta 0:00:01\r\u001b[K     |█████████▋                      | 614 kB 4.8 MB/s eta 0:00:01\r\u001b[K     |█████████▊                      | 624 kB 4.8 MB/s eta 0:00:01\r\u001b[K     |██████████                      | 634 kB 4.8 MB/s eta 0:00:01\r\u001b[K     |██████████                      | 645 kB 4.8 MB/s eta 0:00:01\r\u001b[K     |██████████▎                     | 655 kB 4.8 MB/s eta 0:00:01\r\u001b[K     |██████████▍                     | 665 kB 4.8 MB/s eta 0:00:01\r\u001b[K     |██████████▋                     | 675 kB 4.8 MB/s eta 0:00:01\r\u001b[K     |██████████▊                     | 686 kB 4.8 MB/s eta 0:00:01\r\u001b[K     |███████████                     | 696 kB 4.8 MB/s eta 0:00:01\r\u001b[K     |███████████                     | 706 kB 4.8 MB/s eta 0:00:01\r\u001b[K     |███████████▏                    | 716 kB 4.8 MB/s eta 0:00:01\r\u001b[K     |███████████▍                    | 727 kB 4.8 MB/s eta 0:00:01\r\u001b[K     |███████████▌                    | 737 kB 4.8 MB/s eta 0:00:01\r\u001b[K     |███████████▊                    | 747 kB 4.8 MB/s eta 0:00:01\r\u001b[K     |███████████▉                    | 757 kB 4.8 MB/s eta 0:00:01\r\u001b[K     |████████████                    | 768 kB 4.8 MB/s eta 0:00:01\r\u001b[K     |████████████▏                   | 778 kB 4.8 MB/s eta 0:00:01\r\u001b[K     |████████████▍                   | 788 kB 4.8 MB/s eta 0:00:01\r\u001b[K     |████████████▌                   | 798 kB 4.8 MB/s eta 0:00:01\r\u001b[K     |████████████▋                   | 808 kB 4.8 MB/s eta 0:00:01\r\u001b[K     |████████████▉                   | 819 kB 4.8 MB/s eta 0:00:01\r\u001b[K     |█████████████                   | 829 kB 4.8 MB/s eta 0:00:01\r\u001b[K     |█████████████▏                  | 839 kB 4.8 MB/s eta 0:00:01\r\u001b[K     |█████████████▎                  | 849 kB 4.8 MB/s eta 0:00:01\r\u001b[K     |█████████████▌                  | 860 kB 4.8 MB/s eta 0:00:01\r\u001b[K     |█████████████▋                  | 870 kB 4.8 MB/s eta 0:00:01\r\u001b[K     |█████████████▉                  | 880 kB 4.8 MB/s eta 0:00:01\r\u001b[K     |██████████████                  | 890 kB 4.8 MB/s eta 0:00:01\r\u001b[K     |██████████████                  | 901 kB 4.8 MB/s eta 0:00:01\r\u001b[K     |██████████████▎                 | 911 kB 4.8 MB/s eta 0:00:01\r\u001b[K     |██████████████▍                 | 921 kB 4.8 MB/s eta 0:00:01\r\u001b[K     |██████████████▋                 | 931 kB 4.8 MB/s eta 0:00:01\r\u001b[K     |██████████████▊                 | 942 kB 4.8 MB/s eta 0:00:01\r\u001b[K     |███████████████                 | 952 kB 4.8 MB/s eta 0:00:01\r\u001b[K     |███████████████                 | 962 kB 4.8 MB/s eta 0:00:01\r\u001b[K     |███████████████▎                | 972 kB 4.8 MB/s eta 0:00:01\r\u001b[K     |███████████████▍                | 983 kB 4.8 MB/s eta 0:00:01\r\u001b[K     |███████████████▌                | 993 kB 4.8 MB/s eta 0:00:01\r\u001b[K     |███████████████▊                | 1.0 MB 4.8 MB/s eta 0:00:01\r\u001b[K     |███████████████▉                | 1.0 MB 4.8 MB/s eta 0:00:01\r\u001b[K     |████████████████                | 1.0 MB 4.8 MB/s eta 0:00:01\r\u001b[K     |████████████████▏               | 1.0 MB 4.8 MB/s eta 0:00:01\r\u001b[K     |████████████████▍               | 1.0 MB 4.8 MB/s eta 0:00:01\r\u001b[K     |████████████████▌               | 1.1 MB 4.8 MB/s eta 0:00:01\r\u001b[K     |████████████████▊               | 1.1 MB 4.8 MB/s eta 0:00:01\r\u001b[K     |████████████████▉               | 1.1 MB 4.8 MB/s eta 0:00:01\r\u001b[K     |█████████████████               | 1.1 MB 4.8 MB/s eta 0:00:01\r\u001b[K     |█████████████████▏              | 1.1 MB 4.8 MB/s eta 0:00:01\r\u001b[K     |█████████████████▎              | 1.1 MB 4.8 MB/s eta 0:00:01\r\u001b[K     |█████████████████▌              | 1.1 MB 4.8 MB/s eta 0:00:01\r\u001b[K     |█████████████████▋              | 1.1 MB 4.8 MB/s eta 0:00:01\r\u001b[K     |█████████████████▉              | 1.1 MB 4.8 MB/s eta 0:00:01\r\u001b[K     |██████████████████              | 1.1 MB 4.8 MB/s eta 0:00:01\r\u001b[K     |██████████████████              | 1.2 MB 4.8 MB/s eta 0:00:01\r\u001b[K     |██████████████████▎             | 1.2 MB 4.8 MB/s eta 0:00:01\r\u001b[K     |██████████████████▍             | 1.2 MB 4.8 MB/s eta 0:00:01\r\u001b[K     |██████████████████▋             | 1.2 MB 4.8 MB/s eta 0:00:01\r\u001b[K     |██████████████████▊             | 1.2 MB 4.8 MB/s eta 0:00:01\r\u001b[K     |███████████████████             | 1.2 MB 4.8 MB/s eta 0:00:01\r\u001b[K     |███████████████████             | 1.2 MB 4.8 MB/s eta 0:00:01\r\u001b[K     |███████████████████▎            | 1.2 MB 4.8 MB/s eta 0:00:01\r\u001b[K     |███████████████████▍            | 1.2 MB 4.8 MB/s eta 0:00:01\r\u001b[K     |███████████████████▌            | 1.2 MB 4.8 MB/s eta 0:00:01\r\u001b[K     |███████████████████▊            | 1.3 MB 4.8 MB/s eta 0:00:01\r\u001b[K     |███████████████████▉            | 1.3 MB 4.8 MB/s eta 0:00:01\r\u001b[K     |████████████████████            | 1.3 MB 4.8 MB/s eta 0:00:01\r\u001b[K     |████████████████████▏           | 1.3 MB 4.8 MB/s eta 0:00:01\r\u001b[K     |████████████████████▍           | 1.3 MB 4.8 MB/s eta 0:00:01\r\u001b[K     |████████████████████▌           | 1.3 MB 4.8 MB/s eta 0:00:01\r\u001b[K     |████████████████████▊           | 1.3 MB 4.8 MB/s eta 0:00:01\r\u001b[K     |████████████████████▉           | 1.3 MB 4.8 MB/s eta 0:00:01\r\u001b[K     |█████████████████████           | 1.3 MB 4.8 MB/s eta 0:00:01\r\u001b[K     |█████████████████████▏          | 1.4 MB 4.8 MB/s eta 0:00:01\r\u001b[K     |█████████████████████▎          | 1.4 MB 4.8 MB/s eta 0:00:01\r\u001b[K     |█████████████████████▌          | 1.4 MB 4.8 MB/s eta 0:00:01\r\u001b[K     |█████████████████████▋          | 1.4 MB 4.8 MB/s eta 0:00:01\r\u001b[K     |█████████████████████▉          | 1.4 MB 4.8 MB/s eta 0:00:01\r\u001b[K     |██████████████████████          | 1.4 MB 4.8 MB/s eta 0:00:01\r\u001b[K     |██████████████████████▏         | 1.4 MB 4.8 MB/s eta 0:00:01\r\u001b[K     |██████████████████████▎         | 1.4 MB 4.8 MB/s eta 0:00:01\r\u001b[K     |██████████████████████▍         | 1.4 MB 4.8 MB/s eta 0:00:01\r\u001b[K     |██████████████████████▋         | 1.4 MB 4.8 MB/s eta 0:00:01\r\u001b[K     |██████████████████████▊         | 1.5 MB 4.8 MB/s eta 0:00:01\r\u001b[K     |███████████████████████         | 1.5 MB 4.8 MB/s eta 0:00:01\r\u001b[K     |███████████████████████         | 1.5 MB 4.8 MB/s eta 0:00:01\r\u001b[K     |███████████████████████▎        | 1.5 MB 4.8 MB/s eta 0:00:01\r\u001b[K     |███████████████████████▍        | 1.5 MB 4.8 MB/s eta 0:00:01\r\u001b[K     |███████████████████████▋        | 1.5 MB 4.8 MB/s eta 0:00:01\r\u001b[K     |███████████████████████▊        | 1.5 MB 4.8 MB/s eta 0:00:01\r\u001b[K     |███████████████████████▉        | 1.5 MB 4.8 MB/s eta 0:00:01\r\u001b[K     |████████████████████████        | 1.5 MB 4.8 MB/s eta 0:00:01\r\u001b[K     |████████████████████████▏       | 1.5 MB 4.8 MB/s eta 0:00:01\r\u001b[K     |████████████████████████▍       | 1.6 MB 4.8 MB/s eta 0:00:01\r\u001b[K     |████████████████████████▌       | 1.6 MB 4.8 MB/s eta 0:00:01\r\u001b[K     |████████████████████████▊       | 1.6 MB 4.8 MB/s eta 0:00:01\r\u001b[K     |████████████████████████▉       | 1.6 MB 4.8 MB/s eta 0:00:01\r\u001b[K     |█████████████████████████       | 1.6 MB 4.8 MB/s eta 0:00:01\r\u001b[K     |█████████████████████████▏      | 1.6 MB 4.8 MB/s eta 0:00:01\r\u001b[K     |█████████████████████████▎      | 1.6 MB 4.8 MB/s eta 0:00:01\r\u001b[K     |█████████████████████████▌      | 1.6 MB 4.8 MB/s eta 0:00:01\r\u001b[K     |█████████████████████████▋      | 1.6 MB 4.8 MB/s eta 0:00:01\r\u001b[K     |█████████████████████████▉      | 1.6 MB 4.8 MB/s eta 0:00:01\r\u001b[K     |██████████████████████████      | 1.7 MB 4.8 MB/s eta 0:00:01\r\u001b[K     |██████████████████████████▏     | 1.7 MB 4.8 MB/s eta 0:00:01\r\u001b[K     |██████████████████████████▎     | 1.7 MB 4.8 MB/s eta 0:00:01\r\u001b[K     |██████████████████████████▍     | 1.7 MB 4.8 MB/s eta 0:00:01\r\u001b[K     |██████████████████████████▋     | 1.7 MB 4.8 MB/s eta 0:00:01\r\u001b[K     |██████████████████████████▊     | 1.7 MB 4.8 MB/s eta 0:00:01\r\u001b[K     |███████████████████████████     | 1.7 MB 4.8 MB/s eta 0:00:01\r\u001b[K     |███████████████████████████     | 1.7 MB 4.8 MB/s eta 0:00:01\r\u001b[K     |███████████████████████████▎    | 1.7 MB 4.8 MB/s eta 0:00:01\r\u001b[K     |███████████████████████████▍    | 1.8 MB 4.8 MB/s eta 0:00:01\r\u001b[K     |███████████████████████████▋    | 1.8 MB 4.8 MB/s eta 0:00:01\r\u001b[K     |███████████████████████████▊    | 1.8 MB 4.8 MB/s eta 0:00:01\r\u001b[K     |███████████████████████████▉    | 1.8 MB 4.8 MB/s eta 0:00:01\r\u001b[K     |████████████████████████████    | 1.8 MB 4.8 MB/s eta 0:00:01\r\u001b[K     |████████████████████████████▏   | 1.8 MB 4.8 MB/s eta 0:00:01\r\u001b[K     |████████████████████████████▍   | 1.8 MB 4.8 MB/s eta 0:00:01\r\u001b[K     |████████████████████████████▌   | 1.8 MB 4.8 MB/s eta 0:00:01\r\u001b[K     |████████████████████████████▊   | 1.8 MB 4.8 MB/s eta 0:00:01\r\u001b[K     |████████████████████████████▉   | 1.8 MB 4.8 MB/s eta 0:00:01\r\u001b[K     |█████████████████████████████   | 1.9 MB 4.8 MB/s eta 0:00:01\r\u001b[K     |█████████████████████████████▏  | 1.9 MB 4.8 MB/s eta 0:00:01\r\u001b[K     |█████████████████████████████▎  | 1.9 MB 4.8 MB/s eta 0:00:01\r\u001b[K     |█████████████████████████████▌  | 1.9 MB 4.8 MB/s eta 0:00:01\r\u001b[K     |█████████████████████████████▋  | 1.9 MB 4.8 MB/s eta 0:00:01\r\u001b[K     |█████████████████████████████▉  | 1.9 MB 4.8 MB/s eta 0:00:01\r\u001b[K     |██████████████████████████████  | 1.9 MB 4.8 MB/s eta 0:00:01\r\u001b[K     |██████████████████████████████▏ | 1.9 MB 4.8 MB/s eta 0:00:01\r\u001b[K     |██████████████████████████████▎ | 1.9 MB 4.8 MB/s eta 0:00:01\r\u001b[K     |██████████████████████████████▌ | 1.9 MB 4.8 MB/s eta 0:00:01\r\u001b[K     |██████████████████████████████▋ | 2.0 MB 4.8 MB/s eta 0:00:01\r\u001b[K     |██████████████████████████████▊ | 2.0 MB 4.8 MB/s eta 0:00:01\r\u001b[K     |███████████████████████████████ | 2.0 MB 4.8 MB/s eta 0:00:01\r\u001b[K     |███████████████████████████████ | 2.0 MB 4.8 MB/s eta 0:00:01\r\u001b[K     |███████████████████████████████▎| 2.0 MB 4.8 MB/s eta 0:00:01\r\u001b[K     |███████████████████████████████▍| 2.0 MB 4.8 MB/s eta 0:00:01\r\u001b[K     |███████████████████████████████▋| 2.0 MB 4.8 MB/s eta 0:00:01\r\u001b[K     |███████████████████████████████▊| 2.0 MB 4.8 MB/s eta 0:00:01\r\u001b[K     |████████████████████████████████| 2.0 MB 4.8 MB/s eta 0:00:01\r\u001b[K     |████████████████████████████████| 2.0 MB 4.8 MB/s \n",
            "\u001b[?25hLooking in indexes: https://pypi.org/simple, https://us-python.pkg.dev/colab-wheels/public/simple/\n",
            "Collecting git+https://github.com/google/flax.git\n",
            "  Cloning https://github.com/google/flax.git to /tmp/pip-req-build-2qfvifc6\n",
            "  Running command git clone --filter=blob:none --quiet https://github.com/google/flax.git /tmp/pip-req-build-2qfvifc6\n",
            "  Resolved https://github.com/google/flax.git to commit 45c29559f9c105a6d7e97d218d8557f8c1600716\n",
            "  Preparing metadata (setup.py) ... \u001b[?25l\u001b[?25hdone\n",
            "Requirement already satisfied: numpy>=1.12 in /usr/local/lib/python3.7/dist-packages (from flax==0.6.0) (1.21.6)\n",
            "Requirement already satisfied: jax>=0.3.16 in /usr/local/lib/python3.7/dist-packages (from flax==0.6.0) (0.3.17)\n",
            "Requirement already satisfied: matplotlib in /usr/local/lib/python3.7/dist-packages (from flax==0.6.0) (3.2.2)\n",
            "Requirement already satisfied: msgpack in /usr/local/lib/python3.7/dist-packages (from flax==0.6.0) (1.0.4)\n",
            "Collecting optax\n",
            "  Downloading optax-0.1.3-py3-none-any.whl (145 kB)\n",
            "\u001b[2K     \u001b[90m━━━━━━━━━━━━━━━━━━━━━━━━━━━━━━━━━━━━━━━\u001b[0m \u001b[32m145.1/145.1 kB\u001b[0m \u001b[31m6.1 MB/s\u001b[0m eta \u001b[36m0:00:00\u001b[0m\n",
            "\u001b[?25hCollecting rich>=11.1\n",
            "  Downloading rich-12.5.1-py3-none-any.whl (235 kB)\n",
            "\u001b[2K     \u001b[90m━━━━━━━━━━━━━━━━━━━━━━━━━━━━━━━━━━━━━━\u001b[0m \u001b[32m235.6/235.6 kB\u001b[0m \u001b[31m13.7 MB/s\u001b[0m eta \u001b[36m0:00:00\u001b[0m\n",
            "\u001b[?25hRequirement already satisfied: typing_extensions>=4.1.1 in /usr/local/lib/python3.7/dist-packages (from flax==0.6.0) (4.1.1)\n",
            "Requirement already satisfied: PyYAML>=5.4.1 in /usr/local/lib/python3.7/dist-packages (from flax==0.6.0) (6.0)\n",
            "Requirement already satisfied: etils[epath] in /usr/local/lib/python3.7/dist-packages (from jax>=0.3.16->flax==0.6.0) (0.7.1)\n",
            "Requirement already satisfied: opt-einsum in /usr/local/lib/python3.7/dist-packages (from jax>=0.3.16->flax==0.6.0) (3.3.0)\n",
            "Requirement already satisfied: scipy>=1.5 in /usr/local/lib/python3.7/dist-packages (from jax>=0.3.16->flax==0.6.0) (1.7.3)\n",
            "Requirement already satisfied: absl-py in /usr/local/lib/python3.7/dist-packages (from jax>=0.3.16->flax==0.6.0) (1.2.0)\n",
            "Collecting commonmark<0.10.0,>=0.9.0\n",
            "  Downloading commonmark-0.9.1-py2.py3-none-any.whl (51 kB)\n",
            "\u001b[2K     \u001b[90m━━━━━━━━━━━━━━━━━━━━━━━━━━━━━━━━━━━━━━━━\u001b[0m \u001b[32m51.1/51.1 kB\u001b[0m \u001b[31m7.9 MB/s\u001b[0m eta \u001b[36m0:00:00\u001b[0m\n",
            "\u001b[?25hRequirement already satisfied: pygments<3.0.0,>=2.6.0 in /usr/local/lib/python3.7/dist-packages (from rich>=11.1->flax==0.6.0) (2.6.1)\n",
            "Requirement already satisfied: cycler>=0.10 in /usr/local/lib/python3.7/dist-packages (from matplotlib->flax==0.6.0) (0.11.0)\n",
            "Requirement already satisfied: kiwisolver>=1.0.1 in /usr/local/lib/python3.7/dist-packages (from matplotlib->flax==0.6.0) (1.4.4)\n",
            "Requirement already satisfied: pyparsing!=2.0.4,!=2.1.2,!=2.1.6,>=2.0.1 in /usr/local/lib/python3.7/dist-packages (from matplotlib->flax==0.6.0) (3.0.9)\n",
            "Requirement already satisfied: python-dateutil>=2.1 in /usr/local/lib/python3.7/dist-packages (from matplotlib->flax==0.6.0) (2.8.2)\n",
            "Requirement already satisfied: jaxlib>=0.1.37 in /usr/local/lib/python3.7/dist-packages (from optax->flax==0.6.0) (0.3.15+cuda11.cudnn805)\n",
            "Collecting chex>=0.0.4\n",
            "  Downloading chex-0.1.5-py3-none-any.whl (85 kB)\n",
            "\u001b[2K     \u001b[90m━━━━━━━━━━━━━━━━━━━━━━━━━━━━━━━━━━━━━━━━\u001b[0m \u001b[32m85.3/85.3 kB\u001b[0m \u001b[31m12.0 MB/s\u001b[0m eta \u001b[36m0:00:00\u001b[0m\n",
            "\u001b[?25hRequirement already satisfied: toolz>=0.9.0 in /usr/local/lib/python3.7/dist-packages (from chex>=0.0.4->optax->flax==0.6.0) (0.12.0)\n",
            "Requirement already satisfied: dm-tree>=0.1.5 in /usr/local/lib/python3.7/dist-packages (from chex>=0.0.4->optax->flax==0.6.0) (0.1.7)\n",
            "Requirement already satisfied: six>=1.5 in /usr/local/lib/python3.7/dist-packages (from python-dateutil>=2.1->matplotlib->flax==0.6.0) (1.15.0)\n",
            "Requirement already satisfied: importlib_resources in /usr/local/lib/python3.7/dist-packages (from etils[epath]->jax>=0.3.16->flax==0.6.0) (5.9.0)\n",
            "Requirement already satisfied: zipp in /usr/local/lib/python3.7/dist-packages (from etils[epath]->jax>=0.3.16->flax==0.6.0) (3.8.1)\n",
            "Building wheels for collected packages: flax\n",
            "  Building wheel for flax (setup.py) ... \u001b[?25l\u001b[?25hdone\n",
            "  Created wheel for flax: filename=flax-0.6.0-py3-none-any.whl size=184748 sha256=a0d815b9f6e9d6a2f56d18e9ad1e08d1ad3454589a63c6368cee6d21692f6359\n",
            "  Stored in directory: /tmp/pip-ephem-wheel-cache-_9pfnwrk/wheels/3e/9e/df/f792f5b2c0d0ccf00f3c1286bc060dab7cb2a4af5134d1c5b4\n",
            "Successfully built flax\n",
            "Installing collected packages: commonmark, rich, chex, optax, flax\n",
            "Successfully installed chex-0.1.5 commonmark-0.9.1 flax-0.6.0 optax-0.1.3 rich-12.5.1\n",
            "\u001b[33mWARNING: Running pip as the 'root' user can result in broken permissions and conflicting behaviour with the system package manager. It is recommended to use a virtual environment instead: https://pip.pypa.io/warnings/venv\u001b[0m\u001b[33m\n",
            "\u001b[0mLooking in indexes: https://pypi.org/simple, https://us-python.pkg.dev/colab-wheels/public/simple/\n",
            "Collecting git+https://github.com/deepmind/optax.git\n",
            "  Cloning https://github.com/deepmind/optax.git to /tmp/pip-req-build-c43tlv5w\n",
            "  Running command git clone --filter=blob:none --quiet https://github.com/deepmind/optax.git /tmp/pip-req-build-c43tlv5w\n",
            "  Resolved https://github.com/deepmind/optax.git to commit 90b17710a061a5f4c7b060f4c7715f2d539cb39f\n",
            "  Preparing metadata (setup.py) ... \u001b[?25l\u001b[?25hdone\n",
            "Requirement already satisfied: absl-py>=0.7.1 in /usr/local/lib/python3.7/dist-packages (from optax==0.1.3) (1.2.0)\n",
            "Requirement already satisfied: chex>=0.0.4 in /usr/local/lib/python3.7/dist-packages (from optax==0.1.3) (0.1.5)\n",
            "Requirement already satisfied: jax>=0.1.55 in /usr/local/lib/python3.7/dist-packages (from optax==0.1.3) (0.3.17)\n",
            "Requirement already satisfied: jaxlib>=0.1.37 in /usr/local/lib/python3.7/dist-packages (from optax==0.1.3) (0.3.15+cuda11.cudnn805)\n",
            "Requirement already satisfied: numpy>=1.18.0 in /usr/local/lib/python3.7/dist-packages (from optax==0.1.3) (1.21.6)\n",
            "Requirement already satisfied: typing_extensions>=3.10.0 in /usr/local/lib/python3.7/dist-packages (from optax==0.1.3) (4.1.1)\n",
            "Requirement already satisfied: toolz>=0.9.0 in /usr/local/lib/python3.7/dist-packages (from chex>=0.0.4->optax==0.1.3) (0.12.0)\n",
            "Requirement already satisfied: dm-tree>=0.1.5 in /usr/local/lib/python3.7/dist-packages (from chex>=0.0.4->optax==0.1.3) (0.1.7)\n",
            "Requirement already satisfied: etils[epath] in /usr/local/lib/python3.7/dist-packages (from jax>=0.1.55->optax==0.1.3) (0.7.1)\n",
            "Requirement already satisfied: scipy>=1.5 in /usr/local/lib/python3.7/dist-packages (from jax>=0.1.55->optax==0.1.3) (1.7.3)\n",
            "Requirement already satisfied: opt-einsum in /usr/local/lib/python3.7/dist-packages (from jax>=0.1.55->optax==0.1.3) (3.3.0)\n",
            "Requirement already satisfied: zipp in /usr/local/lib/python3.7/dist-packages (from etils[epath]->jax>=0.1.55->optax==0.1.3) (3.8.1)\n",
            "Requirement already satisfied: importlib_resources in /usr/local/lib/python3.7/dist-packages (from etils[epath]->jax>=0.1.55->optax==0.1.3) (5.9.0)\n",
            "\u001b[33mWARNING: Running pip as the 'root' user can result in broken permissions and conflicting behaviour with the system package manager. It is recommended to use a virtual environment instead: https://pip.pypa.io/warnings/venv\u001b[0m\u001b[33m\n",
            "\u001b[0m"
          ]
        }
      ]
    },
    {
      "cell_type": "markdown",
      "source": [
        "## Part 2: Data\n",
        "First things first, get the data!\n",
        "\n",
        "Each datapoint in the [MNIST dataset](http://yann.lecun.com/exdb/mnist/) is a 28x28 grayscale image (i.e. pixels are values between 0 and 1) of a handwritten digit in $\\{0 \\dots 9\\}$, and a label indicating which number."
      ],
      "metadata": {
        "id": "QXlBa-8oFn9V"
      }
    },
    {
      "cell_type": "code",
      "source": [
        "# Load MNIST data\n",
        "import os\n",
        "import gzip\n",
        "import struct\n",
        "import array\n",
        "import matplotlib.image\n",
        "from urllib.request import urlretrieve\n",
        "\n",
        "def download(url, filename):\n",
        "    if not os.path.exists('data'):\n",
        "        os.makedirs('data')\n",
        "    out_file = os.path.join('data', filename)\n",
        "    if not os.path.isfile(out_file):\n",
        "        urlretrieve(url, out_file)\n",
        "\n",
        "def mnist():\n",
        "    base_url = 'http://yann.lecun.com/exdb/mnist/'\n",
        "\n",
        "    def parse_labels(filename):\n",
        "        with gzip.open(filename, 'rb') as fh:\n",
        "            magic, num_data = struct.unpack(\">II\", fh.read(8))\n",
        "            return np.array(array.array(\"B\", fh.read()), dtype=np.uint8)\n",
        "\n",
        "    def parse_images(filename):\n",
        "        with gzip.open(filename, 'rb') as fh:\n",
        "            magic, num_data, rows, cols = struct.unpack(\">IIII\", fh.read(16))\n",
        "            return np.array(array.array(\"B\", fh.read()), dtype=np.uint8).reshape(num_data, rows, cols)\n",
        "\n",
        "    for filename in ['train-images-idx3-ubyte.gz',\n",
        "                     'train-labels-idx1-ubyte.gz',\n",
        "                     't10k-images-idx3-ubyte.gz',\n",
        "                     't10k-labels-idx1-ubyte.gz']:\n",
        "        download(base_url + filename, filename)\n",
        "\n",
        "    train_images = parse_images('data/train-images-idx3-ubyte.gz')\n",
        "    train_labels = parse_labels('data/train-labels-idx1-ubyte.gz')\n",
        "    test_images = parse_images('data/t10k-images-idx3-ubyte.gz')\n",
        "    test_labels = parse_labels('data/t10k-labels-idx1-ubyte.gz')\n",
        "\n",
        "    return train_images, train_labels, test_images[:1000], test_labels[:1000]\n",
        "\n",
        "def load_mnist():\n",
        "    partial_flatten = lambda x: np.reshape(x, (x.shape[0], np.prod(np.array(x.shape[1:]))))\n",
        "    one_hot = lambda x, k: np.array(x[:, None] == np.arange(k)[None, :], dtype=int)\n",
        "    train_images, train_labels, test_images, test_labels = mnist()\n",
        "    train_images = (partial_flatten(train_images) / 255.0 > .5).astype(float)\n",
        "    test_images = (partial_flatten(test_images) / 255.0 > .5).astype(float)\n",
        "    train_labels = one_hot(train_labels, 10)\n",
        "    test_labels = one_hot(test_labels, 10)\n",
        "    N_data = train_images.shape[0]\n",
        "\n",
        "    return N_data, train_images, train_labels, test_images, test_labels\n",
        "\n",
        "N_data, train_images, train_labels, test_images, test_labels = load_mnist()\n",
        "\n",
        "import numpy as onp   # original numpy\n",
        "def plot_images(images, ims_per_row=5, padding=5, digit_dimensions=(28, 28),\n",
        "                cmap=matplotlib.cm.binary, vmin=0., vmax=1.):\n",
        "    \"\"\"Images should be a (N_images x pixels) matrix.\"\"\"\n",
        "    fig = plt.figure(1)\n",
        "    fig.clf()\n",
        "    ax = fig.add_subplot(111)\n",
        "\n",
        "    N_images = images.shape[0]\n",
        "    N_rows = onp.int32(onp.ceil(float(N_images) / ims_per_row))\n",
        "    pad_value = vmin\n",
        "    concat_images = onp.full(((digit_dimensions[0] + padding) * N_rows + padding,\n",
        "                             (digit_dimensions[1] + padding) * ims_per_row + padding), pad_value)\n",
        "    for i in range(N_images):\n",
        "        cur_image = np.reshape(images[i, :], digit_dimensions)\n",
        "        row_ix = i // ims_per_row\n",
        "        col_ix = i % ims_per_row\n",
        "        row_start = padding + (padding + digit_dimensions[0]) * row_ix\n",
        "        col_start = padding + (padding + digit_dimensions[1]) * col_ix\n",
        "        concat_images[row_start: row_start + digit_dimensions[0],\n",
        "                      col_start: col_start + digit_dimensions[1]] = cur_image\n",
        "        cax = ax.matshow(concat_images, cmap=cmap, vmin=vmin, vmax=vmax)\n",
        "        plt.xticks(onp.array([]))\n",
        "        plt.yticks(onp.array([]))\n",
        "    \n",
        "    plt.plot()\n",
        "\n",
        "plot_images(train_images[:10, :])"
      ],
      "metadata": {
        "id": "_KvgdSxIXSP4",
        "colab": {
          "base_uri": "https://localhost:8080/",
          "height": 178
        },
        "outputId": "4eded38c-692c-4623-a996-2f964fd7d873"
      },
      "execution_count": 2,
      "outputs": [
        {
          "output_type": "display_data",
          "data": {
            "text/plain": [
              "<Figure size 432x288 with 1 Axes>"
            ],
            "image/png": "[encoded data removed]"
          },
          "metadata": {}
        }
      ]
    },
    {
      "cell_type": "markdown",
      "source": [
        "## Part 3: Implement the VAE\n",
        "Now that we have everything we need, we implement the Variational Autoencoder on binarized MNIST digits, as introduced by the paper [Auto-Encoding Variational Bayes](https://arxiv.org/pdf/1312.6114.pdf) by Kingma and Welling (2013). \n",
        "\n",
        "At first, some generic VAE funtions:"
      ],
      "metadata": {
        "id": "3Pa3AIjPMPfS"
      }
    },
    {
      "cell_type": "code",
      "source": [
        "# Generic VAE functions.\n",
        "\n",
        "def log_prior(z): \n",
        "    return np.sum(norm.logpdf(z, 0.0, 1.0), axis=-1)\n",
        "\n",
        "def diag_gaussian_sample(rng, mean, log_std): \n",
        "  return mean + np.exp(log_std) * random.normal(rng, mean.shape) # single sample from a diagonal multivariate Gaussian\n",
        "\n",
        "def diag_gaussian_logpdf(x, mean, log_std):\n",
        "  return np.sum(vmap(norm.logpdf)(x, mean, np.exp(log_std))) # evaluate a single point on a diagonal multivariate Gaussian\n",
        "\n",
        "def elbo(  # Single-sample Monte Carlo estimate of the variational lower bound.\n",
        "    recognition_net,    # takes recognition_params and a datapoint, outputs mean and log_std of size latent_dim, i.e. log q(z|x)\n",
        "    log_joint,          # takes likelihood_params and a vector of size latent_dim and a datapoint, outputs unnormalized log joint, i.e. log p(x,z)\n",
        "    recognition_params, # Phi\n",
        "    model_params,       # theta\n",
        "    datapoint, rng):\n",
        "\n",
        "  q_params = recognition_net(recognition_params, datapoint)  # get the approximate posterior parameters for dp using amotized inference\n",
        "  mu, log_standarddev = q_params\n",
        "  sample = diag_gaussian_sample(rng, mean=mu, log_std=log_standarddev)  # sample from approximate posterior.\n",
        "  log_joint_value = log_joint(model_params, sample, datapoint) \n",
        "  log_post_value = diag_gaussian_logpdf(sample, mean=mu, log_std=log_standarddev) # Evaluates the density of log posterior q(z).\n",
        "  \n",
        "  # KL-divergence between two multidim. Gaussians\n",
        "  d_kl = 0.5*(np.sum(np.exp(log_standarddev)) + np.dot(mu, mu) - datapoint.shape[0] - np.sum(log_standarddev)) \n",
        "  elbo_hat = log_joint_value - d_kl \n",
        "  return elbo_hat\n",
        "\n",
        "def batch_elbo(recognition_net, log_joint, recognition_params, model_params, data, rng):   # batched version using JAX's vmap\n",
        "  batch_size = data.shape[0]\n",
        "  rngs = random.split(rng, batch_size)\n",
        "  vectorized_elbo = vmap(partial(elbo, recognition_net, log_joint,\n",
        "                                 recognition_params, model_params),\n",
        "                         in_axes=(0, 0))\n",
        "  return np.mean(vectorized_elbo(data, rngs)) # average ELBO estimate over a batch of samples\n"
      ],
      "metadata": {
        "id": "ChZZaRmqhkvu"
      },
      "execution_count": 3,
      "outputs": []
    },
    {
      "cell_type": "markdown",
      "source": [
        "Here we set the dimension of the latent space to 2.\n",
        "A larger latent dimension would provide a more powerful model, but a dimension of two will make visualization and debugging easier.\n",
        "\n",
        "Given the latent representation $z$ for an image, the distribution over all 784 pixels in the image is given by a product of independent Bernoullis, whose means are given by the output of a neural network $f_\\theta(z)$:\n",
        "$$p(x|z, \\theta) = \\prod_{d=1}^{784} \\operatorname{Ber}(x_d|f_\\theta(z)_d)$$\n",
        "The neural network $f_\\theta$ is called the decoder, and its parameters $\\theta$ will be optimized to fit the data.\n",
        "\n",
        "After each hundert iterations, we report the Evidence Lower Bound. "
      ],
      "metadata": {
        "id": "CuU3ftS4Fl-5"
      }
    },
    {
      "cell_type": "code",
      "source": [
        "# Define a VAE for the MNIST dataset\n",
        "\n",
        "data_dimension = 28*28\n",
        "latent_dimension = 2\n",
        "key = random.PRNGKey(0)\n",
        "\n",
        "class RecognitionNet(nn.Module):\n",
        "  @nn.compact\n",
        "  def __call__(self, x):\n",
        "    x = nn.Dense(features=150)(x)\n",
        "    x = nn.relu(x)\n",
        "    x = nn.Dense(features=100)(x)\n",
        "    x = nn.relu(x)\n",
        "    mean = nn.Dense(features=latent_dimension)(x)   # Output mean of q(z)\n",
        "    log_std = nn.Dense(features=latent_dimension)(x)   # Output log_std of q(z)\n",
        "    return mean, log_std\n",
        "\n",
        "class Decoder(nn.Module):\n",
        "  @nn.compact\n",
        "  def __call__(self, x):\n",
        "    x = nn.Dense(features=150)(x)\n",
        "    x = nn.relu(x)\n",
        "    x = nn.Dense(features=100)(x)\n",
        "    x = nn.relu(x)\n",
        "    x = nn.Dense(features=data_dimension)(x)   # Output logit of Ber(x|z)\n",
        "    return x\n",
        "\n",
        "x_rand = random.normal(key, (data_dimension,))\n",
        "z_rand = random.normal(key, (latent_dimension,))\n",
        "init_recognition_params = RecognitionNet().init(key, x_rand)\n",
        "init_decoder_params = Decoder().init(key, z_rand)\n",
        "\n",
        "# Set up log likelihood function.\n",
        "def bernoulli_logpdf(logits, x):\n",
        "  return -np.sum(np.logaddexp(0., np.where(x, -1., 1.) * logits))   # Bernoulli log pdf of data x given logits\n",
        "\n",
        "def log_likelihood(decoder_params, latent, datapoint):\n",
        "  logits = Decoder().apply(decoder_params, latent)\n",
        "  return bernoulli_logpdf(logits, datapoint)\n",
        "\n",
        "def log_joint(decoder_params, latent, datapoint):\n",
        "  return log_likelihood(decoder_params, latent, datapoint) + log_prior(latent)\n",
        "\n",
        "# Run optimization\n",
        "n_iters = 6000\n",
        "minibatch_size = 200\n",
        "optimizer = optax.adam(learning_rate=1e-3)\n",
        "params = (init_recognition_params, init_decoder_params)\n",
        "opt_state = optimizer.init(params)\n",
        "\n",
        "@jax.jit\n",
        "def objective(params, t):  # The loss function to be minimized.  \n",
        "  rng = random.PRNGKey(t)\n",
        "  minibatch_ixs = random.choice(key, train_images.shape[0], (minibatch_size,))\n",
        "  minibatch =  train_images[minibatch_ixs, :]\n",
        "  recognition_params, decoder_params = params\n",
        "  return -batch_elbo(RecognitionNet().apply, log_joint, recognition_params, decoder_params, minibatch, rng) \n",
        "  \n",
        "def callback(params, t):\n",
        "  if t % 100 == 0:\n",
        "    print(f\"Iteration {t}: ELBO {-objective(params, t)}\")\n",
        "  \n",
        "@jax.jit\n",
        "def step(params, opt_state, rnd):   \n",
        "    gradient = grad(objective)(params, rnd)  # rnd used for random key in objective\n",
        "    updates, opt_state = optimizer.update(gradient, opt_state)\n",
        "    params = optax.apply_updates(params, updates)\n",
        "    return params, opt_state\n",
        "\n",
        "print(\"Optimizing variational parameters...\")\n",
        "for t in trange(0, n_iters):\n",
        "    params, opt_state = step(params, opt_state, t)\n",
        "    callback(params, t)\n",
        "\n",
        "recognition_params, decoder_params = params"
      ],
      "metadata": {
        "id": "enYQZKWebwFy",
        "colab": {
          "base_uri": "https://localhost:8080/",
          "height": 1000,
          "referenced_widgets": [
            "2876e5a2d8dd4959807120bf257b84f8",
            "a304966b0aa4488f9af244f5626cb670",
            "9f200728fcc64e9da75c0961fb096573",
            "ae80a7b35379471fb0d56a8b40bb5a67",
            "3343bbd1337249848ff540f97088c24c",
            "871dbe11ddbc450aa86da27a28cd8f34",
            "7e8336f356414904946121c962ac8848",
            "87eba56861944e46b0506d0fef1a35c3",
            "b93c13cbeb714c2285fb709110b4b71e",
            "76792e0489824c1997e87e3054371743",
            "d00ff2ceb1bb4ea1bc9f4b90af047ee2"
          ]
        },
        "outputId": "e3f1912f-c8de-416d-e21d-5a4b065ccb55"
      },
      "execution_count": 18,
      "outputs": [
        {
          "output_type": "stream",
          "name": "stdout",
          "text": [
            "Optimizing variational parameters...\n"
          ]
        },
        {
          "output_type": "display_data",
          "data": {
            "text/plain": [
              "  0%|          | 0/6000 [00:00<?, ?it/s]"
            ],
            "application/vnd.jupyter.widget-view+json": {
              "version_major": 2,
              "version_minor": 0,
              "model_id": "2876e5a2d8dd4959807120bf257b84f8"
            }
          },
          "metadata": {}
        },
        {
          "output_type": "stream",
          "name": "stdout",
          "text": [
            "Iteration 0: ELBO -156.91616821289062\n",
            "Iteration 100: ELBO 201.55059814453125\n",
            "Iteration 200: ELBO 215.46490478515625\n",
            "Iteration 300: ELBO 227.02999877929688\n",
            "Iteration 400: ELBO 236.34043884277344\n",
            "Iteration 500: ELBO 243.4761505126953\n",
            "Iteration 600: ELBO 250.57537841796875\n",
            "Iteration 700: ELBO 255.8446502685547\n",
            "Iteration 800: ELBO 260.34552001953125\n",
            "Iteration 900: ELBO 264.0634765625\n",
            "Iteration 1000: ELBO 266.9068908691406\n",
            "Iteration 1100: ELBO 269.82440185546875\n",
            "Iteration 1200: ELBO 271.3938293457031\n",
            "Iteration 1300: ELBO 274.3059997558594\n",
            "Iteration 1400: ELBO 276.95477294921875\n",
            "Iteration 1500: ELBO 279.1895751953125\n",
            "Iteration 1600: ELBO 281.1866455078125\n",
            "Iteration 1700: ELBO 282.7423400878906\n",
            "Iteration 1800: ELBO 284.7330322265625\n",
            "Iteration 1900: ELBO 286.1210021972656\n",
            "Iteration 2000: ELBO 288.1435546875\n",
            "Iteration 2100: ELBO 289.70806884765625\n",
            "Iteration 2200: ELBO 291.39703369140625\n",
            "Iteration 2300: ELBO 292.6307678222656\n",
            "Iteration 2400: ELBO 294.3102722167969\n",
            "Iteration 2500: ELBO 295.52899169921875\n",
            "Iteration 2600: ELBO 296.69366455078125\n",
            "Iteration 2700: ELBO 298.0774230957031\n",
            "Iteration 2800: ELBO 299.2045593261719\n",
            "Iteration 2900: ELBO 300.1630554199219\n",
            "Iteration 3000: ELBO 301.1246337890625\n",
            "Iteration 3100: ELBO 302.45941162109375\n",
            "Iteration 3200: ELBO 303.3900146484375\n",
            "Iteration 3300: ELBO 304.1855773925781\n",
            "Iteration 3400: ELBO 305.0082702636719\n",
            "Iteration 3500: ELBO 306.20281982421875\n",
            "Iteration 3600: ELBO 306.9959716796875\n",
            "Iteration 3700: ELBO 307.8727722167969\n",
            "Iteration 3800: ELBO 308.4831848144531\n",
            "Iteration 3900: ELBO 309.2835998535156\n",
            "Iteration 4000: ELBO 309.92132568359375\n",
            "Iteration 4100: ELBO 310.8224182128906\n",
            "Iteration 4200: ELBO 311.4330749511719\n",
            "Iteration 4300: ELBO 312.168701171875\n",
            "Iteration 4400: ELBO 312.81256103515625\n",
            "Iteration 4500: ELBO 313.4411926269531\n",
            "Iteration 4600: ELBO 313.9538269042969\n",
            "Iteration 4700: ELBO 314.72265625\n",
            "Iteration 4800: ELBO 315.19915771484375\n",
            "Iteration 4900: ELBO 315.9142761230469\n",
            "Iteration 5000: ELBO 316.3590087890625\n",
            "Iteration 5100: ELBO 317.20233154296875\n",
            "Iteration 5200: ELBO 317.7087707519531\n",
            "Iteration 5300: ELBO 318.08056640625\n",
            "Iteration 5400: ELBO 318.614990234375\n",
            "Iteration 5500: ELBO 318.9050598144531\n",
            "Iteration 5600: ELBO 319.92425537109375\n",
            "Iteration 5700: ELBO 320.3552551269531\n",
            "Iteration 5800: ELBO 319.88232421875\n",
            "Iteration 5900: ELBO 320.93109130859375\n"
          ]
        }
      ]
    },
    {
      "cell_type": "markdown",
      "source": [
        "## Part 4: Investigate the Model\n",
        "\n",
        "Great, model implementation and training has been completed! In what follows, we investigate our model by visualizing the distribution over data given by the generative model, sampling from it, and interpolating between digits.\n",
        "\n",
        "One way to understand the meaning of latent representations is to see which parts of the latent space correspond to which kinds of data. Here we'll produce a scatter plot in the latent space, where each point in the plot represents a different image in the training set.\n",
        "\n",
        "What we do here:\n",
        "\n",
        "1.   Encode each image in the training set.\n",
        "2.   Take the 2D mean vector of each encoding $q_\\phi(z|x)$.\n",
        "3.   Plot these mean vectors in the 2D latent space with a scatterplot.\n",
        "4.   Colour each point according to the class label (0 to 9).\n",
        "\n",
        "\n",
        "Hopefully our latent space will group images of different classes, even though we never provided class labels to the model. The latent structure has been learned by the model!\n",
        "\n",
        "\n",
        "\n"
      ],
      "metadata": {
        "id": "_4D_ldpaGldW"
      }
    },
    {
      "cell_type": "code",
      "source": [
        "for k in range(10):\n",
        "  cur_data = train_images[train_labels[:, k] == True, :]\n",
        "  latent_mean, _ = RecognitionNet().apply(recognition_params, cur_data)\n",
        "  plt.scatter(latent_mean[:, 0], latent_mean[:, 1], s=2)\n",
        "\n",
        "plt.axis(\"equal\")"
      ],
      "metadata": {
        "id": "MReco_Jje8LE",
        "colab": {
          "base_uri": "https://localhost:8080/",
          "height": 283
        },
        "outputId": "1be2bd99-2007-47ca-e5a8-08cab0209f16"
      },
      "execution_count": 19,
      "outputs": [
        {
          "output_type": "execute_result",
          "data": {
            "text/plain": [
              "(-4.632243609428405, 5.384226775169372, -4.720753169059753, 4.777469611167907)"
            ]
          },
          "metadata": {},
          "execution_count": 19
        },
        {
          "output_type": "display_data",
          "data": {
            "text/plain": [
              "<Figure size 432x288 with 1 Axes>"
            ],
            "image/png": "[encoded data removed]"
          },
          "metadata": {
            "needs_background": "light"
          }
        }
      ]
    },
    {
      "cell_type": "markdown",
      "source": [
        "But we can do more than that. A VAE is a generative model. We will generate some images by sampling from the prior in the latent space and decoding them to obtain artificial MNIST images."
      ],
      "metadata": {
        "id": "Dk0GjGNOHEXc"
      }
    },
    {
      "cell_type": "code",
      "source": [
        "# Sample data from the trained generative model to see if it roughly matches the data.\n",
        "\n",
        "def sigmoid(x):\n",
        "  return 0.5 * (np.tanh(x) + 1.0)\n",
        "\n",
        "recognition_params, decoder_params = params\n",
        "n_samples = 25\n",
        "sampled_zs = jax.random.normal(key, shape=(n_samples,latent_dimension)) # sample from prior on z.\n",
        "vdecoder = vmap(Decoder().apply, in_axes=(None, 0))\n",
        "bernoulli_means = sigmoid(vdecoder(decoder_params, sampled_zs)) # call decoder, and map logits to probabilities.\n",
        "plot_images(bernoulli_means)"
      ],
      "metadata": {
        "id": "mYkNjM1Ufq9s",
        "colab": {
          "base_uri": "https://localhost:8080/",
          "height": 255
        },
        "outputId": "6d863edb-77df-4a2e-c62f-26f9b3d8dde5"
      },
      "execution_count": 20,
      "outputs": [
        {
          "output_type": "display_data",
          "data": {
            "text/plain": [
              "<Figure size 432x288 with 1 Axes>"
            ],
            "image/png": "[encoded data removed]"
          },
          "metadata": {}
        }
      ]
    },
    {
      "cell_type": "markdown",
      "source": [
        "Another interesting way to examine a continuous latent variable model is to interpolate between the latent representations of two points. Here we will encode 3 pairs of data points with different classes. Then we will linearly interpolate between the mean vectors of their latent representation. We will plot the generative distributions along the linear interpolation.\n",
        "\n",
        "\n",
        "1.   We write a function which takes two points $z_a$ and $z_b$, and a value $\\alpha \\in [0,1]$, and outputs the linear interpolation $z_\\alpha = \\alpha z_a + (1-\\alpha)z_b$.\n",
        "2.  Then we sample 3 pairs of images, each having a different class.\n",
        "3.  Afterwards we encode the images in each pair, take the mean vectors and linearly interpolate them\n",
        "4.  At 10 equally-space points along the interpolation, we show the Bernoulli means $p(x|z_\\alpha)$."
      ],
      "metadata": {
        "id": "T_TLbol-Yrb2"
      }
    },
    {
      "cell_type": "code",
      "source": [
        "def plot_interp(ix1, ix2):\n",
        "  left_z = RecognitionNet().apply(recognition_params, train_images[ix1, :])[0]\n",
        "  right_z = RecognitionNet().apply(recognition_params, train_images[ix2, :])[0]\n",
        "  interp_weights = list(np.linspace(0.0, 1.0, 10))\n",
        "  interp_zs = np.array([weight*left_z + (1.0-weight)*right_z for weight in interp_weights])  # Linearly interpolate between left_z and right_z\n",
        "  bernoulli_means = sigmoid(Decoder().apply(decoder_params, interp_zs))\n",
        "  plot_images(bernoulli_means)"
      ],
      "metadata": {
        "id": "1Wt6FylTfygq"
      },
      "execution_count": 21,
      "outputs": []
    },
    {
      "cell_type": "code",
      "source": [
        "plot_interp(3, 11)"
      ],
      "metadata": {
        "id": "VwbJ00RLQ1aB",
        "colab": {
          "base_uri": "https://localhost:8080/",
          "height": 178
        },
        "outputId": "c439a02a-b50b-46f1-9176-d9b49bbefc37"
      },
      "execution_count": 22,
      "outputs": [
        {
          "output_type": "display_data",
          "data": {
            "text/plain": [
              "<Figure size 432x288 with 1 Axes>"
            ],
            "image/png": "[encoded data removed]"
          },
          "metadata": {}
        }
      ]
    },
    {
      "cell_type": "code",
      "source": [
        "plot_interp(11, 22)"
      ],
      "metadata": {
        "id": "i7IrTnLbQ3oD",
        "colab": {
          "base_uri": "https://localhost:8080/",
          "height": 178
        },
        "outputId": "e1392523-9ce5-44f6-ac4c-e472b3e36453"
      },
      "execution_count": 23,
      "outputs": [
        {
          "output_type": "display_data",
          "data": {
            "text/plain": [
              "<Figure size 432x288 with 1 Axes>"
            ],
            "image/png": "[encoded data removed]"
          },
          "metadata": {}
        }
      ]
    },
    {
      "cell_type": "code",
      "source": [
        "plot_interp(32, 334)"
      ],
      "metadata": {
        "id": "m2R_U7-9Q46R",
        "colab": {
          "base_uri": "https://localhost:8080/",
          "height": 178
        },
        "outputId": "f4c8f3cf-38fa-4b37-f169-6c781f71e18c"
      },
      "execution_count": 25,
      "outputs": [
        {
          "output_type": "display_data",
          "data": {
            "text/plain": [
              "<Figure size 432x288 with 1 Axes>"
            ],
            "image/png": "[encoded data removed]"
          },
          "metadata": {}
        }
      ]
    },
    {
      "cell_type": "markdown",
      "source": [
        "## Part 5: Predicting the Bottom of Images given the Top\n",
        "\n",
        "Now we'll use the trained generative model to perform inference for $p(z|\\text{top half of image x})$.\n",
        "Unfortunately, we can't re-use our recognition network, since it can only input entire images.\n",
        "However, we can still do approximate inference without the encoder.\n",
        "\n",
        "To illustrate this, we'll approximately infer the distribution over the pixels in the bottom half of an image conditioned on the top half of the image:\n",
        "$$p(\\text{bottom half of image x} | \\text{top half of image x}) = \\int p(\\text{bottom half of image x} | z) p( z | \\text{top half of image x}) dz$$\n",
        "To approximate the posterior $p( z | \\text{top half of image x})$, we'll use stochastic variational inference. We implement the SVI:\n",
        "\n",
        "* Using as variational distribution $q_\\phi(z|\\text{top half of $x$})$ with parameters $\\phi_\\mu$ and $\\phi_{\\log \\sigma}$ the family of multidim. Gaussians\n",
        "* Optimizing $\\phi_\\mu$ and $\\phi_{\\log \\sigma}$ with SGD as to maximize the ELBO. We estimate the ELBO averaging over $K$ samples $z \\sim q_\\phi(z|\\text{top half of $x$})$ using the values $\\log p(z)$, $\\log p(\\text{top half of $x$} | z)$, and $\\log q_\\phi(z|\\text{top half of $x$})$.\n",
        "\n",
        "Finally, we take a sample $z$ from the approximate posterior and feed it to the decoder to find the Bernoulli means of $p( \\text{bottom half of image x}|z)$.  Concatenating this greyscale image to the true top of the image, we output the predicted image completion."
      ],
      "metadata": {
        "id": "URnkdY_KQxdT"
      }
    },
    {
      "cell_type": "code",
      "source": [
        "def firsthalf(x):\n",
        "  D = np.shape(x)[-1]\n",
        "  return x[:(D // 2)]\n",
        "\n",
        "def secondhalf(x):\n",
        "  D = np.shape(x)[-1]\n",
        "  return x[(D // 2):]\n",
        "\n",
        "# Set up optimizer.\n",
        "num_samples_per_iter = 50\n",
        "\n",
        "def infer_bottom_half(ix):\n",
        "  datapoint = train_images[ix, :]\n",
        "\n",
        "  def log_likelihood_half(latent):\n",
        "    logits = Decoder().apply(decoder_params, latent)\n",
        "    return np.sum(dists.Bernoulli(logits=firsthalf(logits)).log_prob(firsthalf(datapoint))) # compute log probability of p(first half of image | z)\n",
        "\n",
        "  def log_joint_half(latent):\n",
        "    return log_likelihood_half(latent) + log_prior(latent) # compute log probability of p(first half of image, z)\n",
        "\n",
        "  def svi_elbo(logprob, rng, mean, log_std):\n",
        "    # Single-sample Monte Carlo estimate of the variational lower bound.\n",
        "    sample = diag_gaussian_sample(rng, mean, log_std)\n",
        "    return logprob(sample) - diag_gaussian_logpdf(sample, mean, log_std)\n",
        "\n",
        "  def batch_svi_elbo(logprob, rng, params, num_samples):\n",
        "    # Average over a batch of random samples. Use the vmap function for this part.\n",
        "    rngs = random.split(rng, num_samples)\n",
        "    vectorized_elbo = vmap(partial(svi_elbo, logprob), in_axes=(0, None, None))\n",
        "    return np.mean(vectorized_elbo(rngs, *params))\n",
        "\n",
        "  # Run optimization\n",
        "  @jax.jit\n",
        "  def svi_objective(params, t):   # The loss function to be minimized.\n",
        "    rng = random.PRNGKey(t)\n",
        "    return -batch_svi_elbo(log_joint_half, rng, params, num_samples_per_iter)\n",
        "\n",
        "  n_iters = 200\n",
        "  init_mean = np.zeros(latent_dimension)   # variational parameter mean\n",
        "  init_std  = np.zeros(latent_dimension)   # variational parameter std\n",
        "  svi_params = (init_mean, init_std)\n",
        "  optimizer = optax.sgd(learning_rate=1e-3, momentum=0.9)\n",
        "  opt_state = optimizer.init(svi_params)\n",
        "  \n",
        "  def svi_callback(svi_params, t):\n",
        "    if t % 10 == 0:\n",
        "      print(f\"Iteration {t}: objective {svi_objective(svi_params, t)}\")\n",
        "    \n",
        "  @jax.jit\n",
        "  def step(params, opt_state, rnd):   \n",
        "      gradient = grad(svi_objective)(params, rnd)  # rnd used for random key in objective\n",
        "      updates, opt_state = optimizer.update(gradient, opt_state)\n",
        "      params = optax.apply_updates(params, updates)\n",
        "      return params, opt_state\n",
        "\n",
        "  print(\"Optimizing SVI parameters...\")\n",
        "  for t in trange(0, n_iters):\n",
        "      svi_params, opt_state = step(svi_params, opt_state, t)\n",
        "      svi_callback(svi_params, t)\n",
        "\n",
        "  (svi_mean, adsf) = svi_params\n",
        "\n",
        "  # Plotting code.\n",
        "  tophalf = np.concatenate([firsthalf(datapoint), 0.*firsthalf(datapoint)])\n",
        "  decoded = sigmoid(Decoder().apply(decoder_params, svi_mean))   # decode the optimized svi mean to get the bottom prediction\n",
        "  combined = np.concatenate([firsthalf(datapoint), secondhalf(decoded)]) # build mnist image\n",
        "  all = np.stack([datapoint, tophalf, combined], axis=1)\n",
        "  plot_images(all.T)"
      ],
      "metadata": {
        "id": "y3LHJ8WJQzJB"
      },
      "execution_count": 29,
      "outputs": []
    },
    {
      "cell_type": "code",
      "source": [
        "rnd_ix = randint(0, train_images.shape[0])\n",
        "infer_bottom_half(rnd_ix)"
      ],
      "metadata": {
        "id": "Cxno2UOLS3Ar",
        "colab": {
          "base_uri": "https://localhost:8080/",
          "height": 531,
          "referenced_widgets": [
            "27a7de66890c4f74a02329bfc5631118",
            "d2a70818fbc8430781596cd7fa3aab91",
            "e24f9c913d6f4390aa7f74e2ee356535",
            "9eb3b9fd1a1641cabae75d63920fbbd3",
            "7a774c8b8ed242babd4fc248aa5060bf",
            "1b80fd5d3ad24282a85435387a0c6b87",
            "7aa2a34234fa4338a656616286811a84",
            "1caf48158d274ed5b69091b6996996de",
            "866ba0a7f9d44ae8a445c9d74963be56",
            "842f5d7d221948d2ae2afdfff16a92fd",
            "d519a42a21ab435996535412b5e418fe"
          ]
        },
        "outputId": "527ac08e-aa18-4e92-e101-841b88136725"
      },
      "execution_count": 39,
      "outputs": [
        {
          "output_type": "stream",
          "name": "stdout",
          "text": [
            "Optimizing SVI parameters...\n"
          ]
        },
        {
          "output_type": "display_data",
          "data": {
            "text/plain": [
              "  0%|          | 0/200 [00:00<?, ?it/s]"
            ],
            "application/vnd.jupyter.widget-view+json": {
              "version_major": 2,
              "version_minor": 0,
              "model_id": "27a7de66890c4f74a02329bfc5631118"
            }
          },
          "metadata": {}
        },
        {
          "output_type": "stream",
          "name": "stdout",
          "text": [
            "Iteration 0: objective 537.3950805664062\n",
            "Iteration 10: objective 1016.8563842773438\n",
            "Iteration 20: objective 472.00732421875\n",
            "Iteration 30: objective 890.9573364257812\n",
            "Iteration 40: objective 692.2160034179688\n",
            "Iteration 50: objective 511.19091796875\n",
            "Iteration 60: objective 85.89325714111328\n",
            "Iteration 70: objective 247.76976013183594\n",
            "Iteration 80: objective 700.8286743164062\n",
            "Iteration 90: objective 1153.2003173828125\n",
            "Iteration 100: objective 1427.7265625\n",
            "Iteration 110: objective 1888.7808837890625\n",
            "Iteration 120: objective 1339.872314453125\n",
            "Iteration 130: objective 1390.5440673828125\n",
            "Iteration 140: objective 2446.279052734375\n",
            "Iteration 150: objective 2249.667724609375\n",
            "Iteration 160: objective 209.14373779296875\n",
            "Iteration 170: objective 1326.8438720703125\n",
            "Iteration 180: objective 157.42543029785156\n",
            "Iteration 190: objective 694.534912109375\n"
          ]
        },
        {
          "output_type": "display_data",
          "data": {
            "text/plain": [
              "<Figure size 432x288 with 1 Axes>"
            ],
            "image/png": "[encoded data removed]"
          },
          "metadata": {}
        }
      ]
    }
  ]
}